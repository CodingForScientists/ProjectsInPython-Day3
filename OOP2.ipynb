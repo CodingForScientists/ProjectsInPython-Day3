{
 "cells": [
  {
   "cell_type": "markdown",
   "source": "# Object Polymorphism in Python\n\nConsider the following equalities in Python:\n  -  `1 + 1 == 2`: int\n  -  `'1' + '1' == '11'`: str\n  -  `[1] + [1] == [1, 1]`: list\n  -  `np.array([1]) + np.array([1]) == np.array([2])`: numpy array\n  -  `True + True == 2`: bool\n\nIn each of these lines, the `+` operator is used, and a different type of operation results; sometimes math operations, sometimes concatenation, and sometimes a type change!  \n\nHow does Python decide what operations to do when different types are added together?  \nUnderstanding **Polymorphism** (the ability for objects to create a common interface that calls different code) unlocks the ability to understand your options when using new libraries, as well as to create custom classes that cooperate well with the rest of the Python ecosystem!\n",
   "metadata": {
    "tags": [],
    "cell_id": "00000-44927b84-2269-4957-b171-d664606ba8fc",
    "deepnote_cell_type": "markdown"
   }
  },
  {
   "cell_type": "markdown",
   "source": "### The \"Duck Typing\" System: Everything is an Object\n\nSo, how does the `+` operator work?  Well, it works by looking for the `__add__` method on the type to the left of it!\n\n```\n1 + 2 == (1).__add__(2)\n```\n\nThere are a lot of other \"dunder methods\" (i.e. methods surrounded by double-underscores) that the various math operators use.\n\nHere's a list of starting methods.  To find more, call the `dir()` function on the object you are curious about.  \n\n| Operator, | Method   |\n| :----:    | :----:   |\n| `+`      | `__add__` |\n| `-`  | `__sub__` |\n| `*`  | `__mul__` |\n| `/`  | `__truediv__` |\n| `==` | `__eq__` |\n| `>`  | `__gt__` |",
   "metadata": {
    "tags": [],
    "cell_id": "00001-869926b2-9ef2-4eaa-8b01-63bd49e1aa96",
    "deepnote_cell_type": "markdown"
   }
  },
  {
   "cell_type": "code",
   "metadata": {
    "tags": [],
    "cell_id": "00002-fb1dc9e5-30ed-4ff8-a3ba-d8a3a91865c1",
    "deepnote_to_be_reexecuted": false,
    "source_hash": "471e923b",
    "execution_start": 1636407779503,
    "execution_millis": 8,
    "deepnote_output_heights": [
     21.1875
    ],
    "deepnote_cell_type": "code"
   },
   "source": "(1).__add__(2)",
   "execution_count": null,
   "outputs": [
    {
     "output_type": "execute_result",
     "execution_count": 7,
     "data": {
      "text/plain": "3"
     },
     "metadata": {}
    }
   ]
  },
  {
   "cell_type": "markdown",
   "source": "##### Using Objects: Translating from Operator to Method",
   "metadata": {
    "tags": [],
    "cell_id": "00003-0c2d69f1-3cf5-46f2-8c8b-f3ebeae4ed0e",
    "deepnote_cell_type": "markdown"
   }
  },
  {
   "cell_type": "markdown",
   "source": "**Exercises**: Write the dunder-method-equivalent code listed below, and make sure Python returns the correct result.  (e.g. `1 + 2` would be translated as `(1).__add__(2)`.",
   "metadata": {
    "tags": [],
    "cell_id": "00003-1b101736-0dde-4c8c-90e7-668b3d0d4dfb",
    "deepnote_cell_type": "markdown"
   }
  },
  {
   "cell_type": "markdown",
   "source": "`5 + 8`",
   "metadata": {
    "tags": [],
    "cell_id": "00005-0ad7716a-e41c-435b-a669-9674507b445d",
    "deepnote_cell_type": "markdown"
   }
  },
  {
   "cell_type": "code",
   "metadata": {
    "tags": [],
    "cell_id": "00006-59e1b8ca-18d2-4f86-a0c1-6f0ac6436f25",
    "deepnote_to_be_reexecuted": false,
    "source_hash": "b623e53d",
    "execution_start": 1636408360837,
    "execution_millis": 1,
    "deepnote_cell_type": "code"
   },
   "source": "",
   "execution_count": null,
   "outputs": []
  },
  {
   "cell_type": "markdown",
   "source": "`6 - 7`",
   "metadata": {
    "tags": [],
    "cell_id": "00007-639c05a7-5ce0-4aad-8538-3c8bec88c71e",
    "deepnote_cell_type": "markdown"
   }
  },
  {
   "cell_type": "markdown",
   "source": "`['Pizza'] * 4`",
   "metadata": {
    "tags": [],
    "cell_id": "00009-0b313b51-d25f-42c6-95e4-62e689183c05",
    "deepnote_to_be_reexecuted": false,
    "source_hash": "a6771a8d",
    "execution_start": 1636408382798,
    "execution_millis": 8,
    "deepnote_cell_type": "markdown"
   }
  },
  {
   "cell_type": "code",
   "metadata": {
    "tags": [],
    "cell_id": "00010-84894966-7d5f-43d2-ba87-ba7a08a9e244",
    "deepnote_to_be_reexecuted": false,
    "source_hash": "b623e53d",
    "execution_start": 1636408430403,
    "execution_millis": 2,
    "deepnote_cell_type": "code"
   },
   "source": "",
   "execution_count": null,
   "outputs": []
  },
  {
   "cell_type": "markdown",
   "source": "`'Hello' == 'hello'`",
   "metadata": {
    "tags": [],
    "cell_id": "00011-e21131c7-3cb4-4404-87ae-0695daf831c4",
    "deepnote_cell_type": "markdown"
   }
  },
  {
   "cell_type": "code",
   "metadata": {
    "tags": [],
    "cell_id": "00012-f717ba5c-ee49-4b9d-9304-cd970d7745c3",
    "deepnote_cell_type": "code"
   },
   "source": "",
   "execution_count": null,
   "outputs": []
  },
  {
   "cell_type": "markdown",
   "source": "`3 < 4`",
   "metadata": {
    "tags": [],
    "cell_id": "00013-61de6dc9-929e-4c8c-b6f5-91814e39293b",
    "deepnote_cell_type": "markdown"
   }
  },
  {
   "cell_type": "code",
   "metadata": {
    "tags": [],
    "cell_id": "00014-afed2aa3-5cc8-4cc8-ad6a-b34dd8b52875",
    "deepnote_to_be_reexecuted": false,
    "source_hash": "b623e53d",
    "execution_start": 1636470345648,
    "execution_millis": 0,
    "deepnote_cell_type": "code"
   },
   "source": "",
   "execution_count": null,
   "outputs": []
  },
  {
   "cell_type": "markdown",
   "source": "Even the built-in type conversions have their own dunder methods!  Do the same translation below:",
   "metadata": {
    "tags": [],
    "cell_id": "00015-7fdc8dd5-c691-4d73-9e7c-b2b89097d3c4",
    "deepnote_cell_type": "markdown"
   }
  },
  {
   "cell_type": "markdown",
   "source": "`str(3.14)`",
   "metadata": {
    "tags": [],
    "cell_id": "00015-1c172933-c9ab-45c4-9778-e850bbb2abc8",
    "deepnote_to_be_reexecuted": false,
    "source_hash": "ec75579b",
    "execution_start": 1636408496495,
    "execution_millis": 12,
    "deepnote_cell_type": "markdown"
   }
  },
  {
   "cell_type": "code",
   "metadata": {
    "tags": [],
    "cell_id": "00017-caa3041a-d905-4f0c-a620-501381407fa5",
    "deepnote_cell_type": "code"
   },
   "source": "",
   "execution_count": null,
   "outputs": []
  },
  {
   "cell_type": "markdown",
   "source": "`bool('32')`",
   "metadata": {
    "tags": [],
    "cell_id": "00018-3b486dc7-5543-4434-9969-8eb1fc004980",
    "deepnote_cell_type": "markdown"
   }
  },
  {
   "cell_type": "code",
   "metadata": {
    "tags": [],
    "cell_id": "00019-793febb4-68d2-4888-a484-c1a384ca8982",
    "deepnote_to_be_reexecuted": false,
    "source_hash": "b623e53d",
    "execution_start": 1636408598308,
    "execution_millis": 1,
    "deepnote_cell_type": "code"
   },
   "source": "",
   "execution_count": null,
   "outputs": []
  },
  {
   "cell_type": "markdown",
   "source": "Printing is also done by a special dunder method: `__repr__`, writing the string returned by `__repr__` to the standard output pipe on the terminal:\n\n```python\nfrom sys import stdout\nprint(42) == stdout.write((42).__repr__())\n```",
   "metadata": {
    "tags": [],
    "cell_id": "00020-c61410ae-286e-44af-8d84-09b34b371432",
    "deepnote_cell_type": "markdown"
   }
  },
  {
   "cell_type": "code",
   "metadata": {
    "tags": [],
    "cell_id": "00021-470ca51a-b833-4cfc-951c-afc333c7a394",
    "deepnote_to_be_reexecuted": false,
    "source_hash": "5d735b2",
    "execution_start": 1636408789351,
    "execution_millis": 7,
    "deepnote_output_heights": [
     21.1875
    ],
    "deepnote_cell_type": "code"
   },
   "source": "(42).__repr__()",
   "execution_count": null,
   "outputs": [
    {
     "output_type": "execute_result",
     "execution_count": 12,
     "data": {
      "text/plain": "'42'"
     },
     "metadata": {}
    }
   ]
  },
  {
   "cell_type": "code",
   "metadata": {
    "tags": [],
    "cell_id": "00022-5c217db1-cedf-437b-ab30-b47b44250df6",
    "deepnote_to_be_reexecuted": false,
    "source_hash": "3b85e81d",
    "execution_start": 1636408962464,
    "execution_millis": 1,
    "deepnote_cell_type": "code"
   },
   "source": "from sys import stdout\nstdout.write((42).__repr__())",
   "execution_count": null,
   "outputs": [
    {
     "name": "stdout",
     "text": "42",
     "output_type": "stream"
    }
   ]
  },
  {
   "cell_type": "markdown",
   "source": "**Exercises**\n\nWrite the standard-output + `__repr__()` - equivalent code for each of the print statements below.",
   "metadata": {
    "tags": [],
    "cell_id": "00023-489f2250-2139-44d2-aed1-6891461adddc",
    "deepnote_cell_type": "markdown"
   }
  },
  {
   "cell_type": "markdown",
   "source": "`print('Hello')`",
   "metadata": {
    "tags": [],
    "cell_id": "00024-2ff1b2e7-ab87-4233-8dc6-0abe6de6c991",
    "deepnote_cell_type": "markdown"
   }
  },
  {
   "cell_type": "code",
   "metadata": {
    "tags": [],
    "cell_id": "00025-f89f7b10-476e-4a20-a83e-b2f2a0b6815c",
    "deepnote_cell_type": "code"
   },
   "source": "",
   "execution_count": null,
   "outputs": []
  },
  {
   "cell_type": "markdown",
   "source": "`print(1e6)`",
   "metadata": {
    "tags": [],
    "cell_id": "00026-957f96ed-5b2a-49ba-bf5c-e055eaa23808",
    "deepnote_cell_type": "markdown"
   }
  },
  {
   "cell_type": "code",
   "metadata": {
    "tags": [],
    "cell_id": "00027-63215413-40ff-48d7-8fcf-34071fddf71b",
    "deepnote_to_be_reexecuted": false,
    "source_hash": "b623e53d",
    "execution_start": 1636409132313,
    "execution_millis": 3,
    "deepnote_cell_type": "code"
   },
   "source": "",
   "execution_count": null,
   "outputs": []
  },
  {
   "cell_type": "markdown",
   "source": "#### Everything is an Object\n\nChange each of the lines of code below so that only methods are used: no functions, no operators.",
   "metadata": {
    "tags": [],
    "cell_id": "00028-870100a7-d412-4694-a32e-fbc0a3255305",
    "deepnote_cell_type": "markdown"
   }
  },
  {
   "cell_type": "markdown",
   "source": "`1 + 1 > 2`",
   "metadata": {
    "tags": [],
    "cell_id": "00029-9abc3b14-db48-4cba-a458-f1fff6874437",
    "deepnote_cell_type": "markdown"
   }
  },
  {
   "cell_type": "code",
   "metadata": {
    "tags": [],
    "cell_id": "00030-cba740c1-4a97-434b-a1d7-991e37ae775f",
    "deepnote_cell_type": "code"
   },
   "source": "",
   "execution_count": null,
   "outputs": []
  },
  {
   "cell_type": "markdown",
   "source": "`print(3 * 2)`",
   "metadata": {
    "tags": [],
    "cell_id": "00031-31df58df-7e12-421d-8a4c-3c4c1c3393bf",
    "deepnote_cell_type": "markdown"
   }
  },
  {
   "cell_type": "code",
   "metadata": {
    "tags": [],
    "cell_id": "00032-42ef1c78-738b-4a14-bf24-0f6ca2931417",
    "deepnote_to_be_reexecuted": false,
    "source_hash": "b623e53d",
    "execution_start": 1636409265357,
    "execution_millis": 1,
    "deepnote_cell_type": "code"
   },
   "source": "",
   "execution_count": null,
   "outputs": []
  },
  {
   "cell_type": "markdown",
   "source": "3 + 2 * 5 == 13",
   "metadata": {
    "tags": [],
    "cell_id": "00032-164de4bd-4243-4168-8803-7ed858f70e32",
    "deepnote_cell_type": "markdown"
   }
  },
  {
   "cell_type": "code",
   "metadata": {
    "tags": [],
    "cell_id": "00020-bbafac22-b690-48ca-a5f6-c2632e248ecd",
    "deepnote_cell_type": "code"
   },
   "source": "### Using Dunder Methods in Custom Classes\n\nWe can use these to make classes that have nice behaviors!\nHere are some examples of type annotations for some of them.  You can find a full list at https://docs.python.org/3/reference/datamodel.html#emulating-numeric-types\n\n```\nfrom typing import Any\nclass MyClass:\n    def __init__(self) -> None: ...\n    def __repr__(self) -> str: ...\n    def __add__(self, other) -> Any: ...\n    def __sub__(self, other) -> Any: ...\n    def __bool__(self) -> bool: ...\n```\n\n",
   "execution_count": null,
   "outputs": []
  },
  {
   "cell_type": "markdown",
   "source": "**Exercises** Make a class that passes the tests below it",
   "metadata": {
    "tags": [],
    "cell_id": "00036-fb663955-b9b2-4f35-9700-dffa65b3c79b",
    "deepnote_cell_type": "markdown"
   }
  },
  {
   "cell_type": "markdown",
   "source": "An `Integer` class",
   "metadata": {
    "tags": [],
    "cell_id": "00037-c2e34a00-d3ff-44b5-9f5f-b91b3ca592c3",
    "deepnote_cell_type": "markdown"
   }
  },
  {
   "cell_type": "code",
   "metadata": {
    "tags": [],
    "cell_id": "00038-7a68fc59-cb67-43d4-9d1e-8b16b34e30fd",
    "deepnote_cell_type": "code"
   },
   "source": "",
   "execution_count": null,
   "outputs": []
  },
  {
   "cell_type": "markdown",
   "source": "`print(Integer(4)` should show `4`",
   "metadata": {
    "tags": [],
    "cell_id": "00039-8cacd49f-307e-4d8a-8cdb-fbe757cc07f9",
    "deepnote_cell_type": "markdown"
   }
  },
  {
   "cell_type": "code",
   "metadata": {
    "tags": [],
    "cell_id": "00040-0ed8186a-ec3d-4035-b31f-8a48bd13c5be",
    "deepnote_cell_type": "code"
   },
   "source": "",
   "execution_count": null,
   "outputs": []
  },
  {
   "cell_type": "code",
   "metadata": {
    "tags": [],
    "cell_id": "00039-2ba9281c-42c0-4f04-ae9b-3a94669ff3c4",
    "deepnote_cell_type": "code"
   },
   "source": "assert str(Integer(4)) == '4'\nassert int(Integer(3) + 5) == 8\n",
   "execution_count": null,
   "outputs": []
  },
  {
   "cell_type": "markdown",
   "source": "**Exercises** Make a class that passes the tests below it",
   "metadata": {
    "tags": [],
    "cell_id": "00041-e4eb735d-e565-4d4c-b35a-305f19668ed4",
    "deepnote_cell_type": "markdown"
   }
  },
  {
   "cell_type": "markdown",
   "source": "A Numpy-like `Array` class",
   "metadata": {
    "tags": [],
    "cell_id": "00040-251e1bdd-2a2c-483f-9274-7eff52b8363e",
    "deepnote_cell_type": "markdown"
   }
  },
  {
   "cell_type": "code",
   "metadata": {
    "tags": [],
    "cell_id": "00041-edc82d2b-9daa-4bce-b121-fd1ab46d05b0",
    "deepnote_cell_type": "code"
   },
   "source": "",
   "execution_count": null,
   "outputs": []
  },
  {
   "cell_type": "markdown",
   "source": "`print(Array([1, 2, 3]))` should show `<1 2 3>`",
   "metadata": {
    "tags": [],
    "cell_id": "00044-8b9aab38-b3cf-45aa-8ded-4e3163d61fca",
    "deepnote_cell_type": "markdown"
   }
  },
  {
   "cell_type": "code",
   "metadata": {
    "tags": [],
    "cell_id": "00045-add955f3-f4a9-4cc3-affc-5faff8aae0ef",
    "deepnote_cell_type": "code"
   },
   "source": "",
   "execution_count": null,
   "outputs": []
  },
  {
   "cell_type": "code",
   "metadata": {
    "tags": [],
    "cell_id": "00042-80c2f23a-f1b8-473e-812f-615fd07633cc",
    "deepnote_cell_type": "code"
   },
   "source": "# Note: Just have Array return a list for each operation below.\nassert bool(Array([0, 1, 0])) == [False, True, False]\nassert Array([4, 5, 6]) + 10 == [14, 15, 16]\nassert (Array([3, 4, 5]) == Array([4, 4, 5])) == [False, True, True]",
   "execution_count": null,
   "outputs": []
  },
  {
   "cell_type": "markdown",
   "source": "A length-calculating `Vector2D` class",
   "metadata": {
    "tags": [],
    "cell_id": "00047-53a8f6d9-cf4d-4282-9bb9-0c632e091f31",
    "deepnote_cell_type": "markdown"
   }
  },
  {
   "cell_type": "code",
   "metadata": {
    "tags": [],
    "cell_id": "00048-3a491a3b-c81c-4a96-8a61-84868c6c6595",
    "deepnote_cell_type": "code"
   },
   "source": "",
   "execution_count": null,
   "outputs": []
  },
  {
   "cell_type": "code",
   "metadata": {
    "tags": [],
    "cell_id": "00049-ab584602-c4e0-47a9-bc90-acc73cd6c953",
    "deepnote_cell_type": "code"
   },
   "source": "# https://chortle.ccsu.edu/vectorlessons/vch04/vch04_4.html\nassert len(Vector2D(0, 1)) == 1\nassert len(Vector2D(1, 0)) == 1\nassert len(Vector2D(3, 4)) == 5\nassert len(Vector2D(8, 6)) == 10",
   "execution_count": null,
   "outputs": []
  },
  {
   "cell_type": "markdown",
   "source": "*(5-Min Discussion)*: What does using `__len__` force you to do with the ",
   "metadata": {
    "tags": [],
    "cell_id": "00050-76832799-4e0e-4c7a-848a-c4ef142b22d2",
    "deepnote_cell_type": "markdown"
   }
  },
  {
   "cell_type": "markdown",
   "source": "### (Extra) Advanced Dunder Methods",
   "metadata": {
    "tags": [],
    "cell_id": "00047-1f11f777-b3fd-4ecd-8490-b3a2877bb18c",
    "deepnote_cell_type": "markdown"
   }
  },
  {
   "cell_type": "markdown",
   "source": "#### Making Objects work like functions with `__call__`\nEven functions are objects in Python!  The following is equivalent:\n\n`sum(1, 2) == sum.__call__(1, 2)`\n\nLet's try it out!",
   "metadata": {
    "tags": [],
    "cell_id": "00048-0c47da35-414a-458a-bb43-5eabcee0ed15",
    "deepnote_cell_type": "markdown"
   }
  },
  {
   "cell_type": "markdown",
   "source": "**Exercises**",
   "metadata": {
    "tags": [],
    "cell_id": "00049-ab0159d2-9732-4210-8e45-6813f9f02bbd",
    "deepnote_to_be_reexecuted": false,
    "source_hash": "803b8d5d",
    "execution_start": 1636410669409,
    "execution_millis": 8,
    "deepnote_cell_type": "markdown"
   }
  },
  {
   "cell_type": "markdown",
   "source": "Let's make a function that has state!  Alter the `Counter` object below so it passes the following tests:",
   "metadata": {
    "tags": [],
    "cell_id": "00050-6b419798-6a2c-4378-9b6d-85b2407d3075",
    "deepnote_cell_type": "markdown"
   }
  },
  {
   "cell_type": "code",
   "metadata": {
    "tags": [],
    "cell_id": "00051-b4c2bffc-4dd8-4d9a-91b0-d364f2c076ca",
    "deepnote_cell_type": "code"
   },
   "source": "class Counter:\n    def __init__(self, start=0):\n        self.start = start",
   "execution_count": null,
   "outputs": []
  },
  {
   "cell_type": "code",
   "metadata": {
    "tags": [],
    "cell_id": "00052-91170f96-5180-4c86-9e5b-16731a212630",
    "deepnote_cell_type": "code"
   },
   "source": "counter = Counter()\nassert counter() == 1\nassert counter() == 2\nassert counter() == 3\n\ncounter2 = Counter(10)\nassert counter2() == 11\nassert counter2() == 12\nassert counter2() == 13",
   "execution_count": null,
   "outputs": []
  },
  {
   "cell_type": "markdown",
   "source": "#### Making Objects work with if-statements with `__bool__()`\n\nThe `if` keyword calls the `__bool__` dunder method, which returns True or False.\n\n```python\nclass DigitString:\n    def __init__(self, string):\n        self.string = self\n        \n    def __bool__(self) -> bool:\n        \"\"\"Returns True if all of the characters in the string are numeric\"\"\"\n        return self.string.isdigit()\n\n\nif DigitString(\"42\"):\n    print('is a digit!')\n\n```",
   "metadata": {
    "tags": [],
    "cell_id": "00053-3f8fee74-3a47-49a3-84c9-409e0cd02ad6",
    "deepnote_cell_type": "markdown"
   }
  },
  {
   "cell_type": "markdown",
   "source": "**Exercises**: Alter the classes below to pass the tests",
   "metadata": {
    "tags": [],
    "cell_id": "00053-a5677363-adfe-452c-a11f-d470ad55fed4",
    "deepnote_cell_type": "markdown"
   }
  },
  {
   "cell_type": "code",
   "metadata": {
    "tags": [],
    "cell_id": "00055-afcbbd0f-187b-44e5-b8d0-52a6d4a9318e",
    "deepnote_to_be_reexecuted": false,
    "source_hash": "bb47c002",
    "execution_start": 1636411294276,
    "execution_millis": 1,
    "deepnote_cell_type": "code"
   },
   "source": "class DNAValidator:\n    def __init__(self, seq: str):\n        \"\"\"DNAValidator checks that a sequence contains only G, T, C, and A\"\"\"\n        self.seq = seq  # A DNA sequence (e.g. 'GTTTAGCA')",
   "execution_count": null,
   "outputs": []
  },
  {
   "cell_type": "code",
   "metadata": {
    "tags": [],
    "cell_id": "00056-390e10f7-f9a1-4ee1-9bf6-291e6797c3fa",
    "deepnote_cell_type": "code"
   },
   "source": "assert bool(DNAValidator(\"GGTA\")) == True\nassert bool(DNAValidator(\"GGTU\")) == False\nassert bool(DNAValidator(\"CGATG\")) == True\nif DNAValidator(\"Hello\"):\n    assert False, \"Should not have passed\"\nif not DNAValidator(\"GTAACA\"):\n    assert False, \"Should have passed\"",
   "execution_count": null,
   "outputs": []
  },
  {
   "cell_type": "markdown",
   "source": "### Indexable objects with `__getitem__` and `__setitem__`\n\n`data[0] == data.__getitem(0)`\n\n`data[0] = 5` is the same as `data.__setitem__(0, 5)`",
   "metadata": {
    "tags": [],
    "cell_id": "00060-53344b82-83c7-44d8-9ba1-e8bf7f0e4297",
    "deepnote_cell_type": "markdown"
   }
  },
  {
   "cell_type": "markdown",
   "source": "**Exercises**",
   "metadata": {
    "tags": [],
    "cell_id": "00061-82cc0171-7b11-4481-9245-5673f191be4f",
    "deepnote_to_be_reexecuted": false,
    "source_hash": "a63126e8",
    "execution_start": 1636412340804,
    "execution_millis": 7,
    "deepnote_cell_type": "markdown"
   }
  },
  {
   "cell_type": "code",
   "metadata": {
    "tags": [],
    "cell_id": "00062-a30f860c-1bd5-4df5-b6ef-d9ca61cc732c",
    "deepnote_cell_type": "code"
   },
   "source": "class IncrementDict:\n    def __init__(self, **kwargs):\n        self.data = kwargs\n\n    def __getitem__(self, key):\n        \"\"\"Returns the value + 1.\"\"\"\n\n    def __setitem__(self, key, value):\n        \"\"\"Sets the value at key.\"\"\"\n",
   "execution_count": null,
   "outputs": []
  },
  {
   "cell_type": "code",
   "metadata": {
    "tags": [],
    "cell_id": "00063-1efe5932-8538-49fd-9ba3-2d2a8e09b755",
    "deepnote_cell_type": "code"
   },
   "source": "data = IncrementDict(x=3, y=4)\nassert data['x'] == 4\nassert data['y'] == 5\n\ndata = IncrementDict()\ndata['a'] = 6\ndata['b'] = 10\nassert data['a'] == 7\nassert data['b'] == 11",
   "execution_count": null,
   "outputs": []
  },
  {
   "cell_type": "markdown",
   "source": "## Designing Class Interfaces: Make them \"X\"-able or \"X\"-like\n\nTo make classes that work with other classes simply means giving them a common method that other classes can use.  For example:  *Readable* classes all have a `.read()` method.  *Dict-like* classes have all the same methods as a `dict`.  That's it!",
   "metadata": {
    "tags": [],
    "cell_id": "00057-e03f0afb-536b-4f49-951e-b8b0bd9a8a7e",
    "deepnote_cell_type": "markdown"
   }
  },
  {
   "cell_type": "markdown",
   "source": "**Exercises**\n\n",
   "metadata": {
    "tags": [],
    "cell_id": "00063-79492b4f-7ca1-4a95-9e4a-49c247a10d39",
    "deepnote_cell_type": "markdown"
   }
  },
  {
   "cell_type": "code",
   "metadata": {
    "tags": [],
    "cell_id": "00061-c936a252-87b1-4609-9285-652932cc6d25",
    "deepnote_cell_type": "code"
   },
   "source": "class WindCSVReader:\n    def __init__(self, filename): ...\n    def read(self): ...\n\nclass WindJSONReader:\n    def __init__(self, filename): ...\n    def read(self): ...\n\nclass WindHDF5Reader:\n    def __init__(self, filename): ...\n    def read(self): ...\n\n\n# user-facing function\nfrom pathlib import Path\n\ndef read_wind_file(filename):\n    reader_types = {\n        '.csv': WindCSVReader,\n        '.json': WindJSONReader,\n        '.h5': WindHDF5Reader,\n    }\n    reader_type = reader_types[Path(filename).suffix]\n    reader = reader_type(filename)\n    return reader.read()\n",
   "execution_count": null,
   "outputs": []
  },
  {
   "cell_type": "markdown",
   "source": "##### Extra: Abstract Classes\n\nHow do you tell Python that a class should have a certain interface?  Well, you create  an `Abstract` class, which provides the template! Here's an example:",
   "metadata": {
    "tags": [],
    "cell_id": "00067-f8eaaba8-0caa-450b-b79e-bf33f5b34eaf",
    "deepnote_cell_type": "markdown"
   }
  },
  {
   "cell_type": "code",
   "metadata": {
    "tags": [],
    "cell_id": "00068-6db05328-de6f-4735-9c79-fc3f54038816",
    "deepnote_to_be_reexecuted": false,
    "source_hash": "dbeb8f8c",
    "execution_start": 1636413199669,
    "execution_millis": 5,
    "deepnote_cell_type": "code"
   },
   "source": "from abc import ABC\n\nclass BaseReader(ABC):\n    def read(self): ...\n\n\nclass WindCSVReader(BaseReader):\n    def __init__(self, filename): ...\n    def read(self): ...\n\nclass WindJSONReader(BaseReader):\n    def __init__(self, filename): ...\n    def read(self): ...\n\nclass WindHDF5Reader(BaseReader):\n    def __init__(self, filename): ...\n    def read(self): ...\n\n\n# user-facing function\nfrom pathlib import Path\n\ndef read_wind_file(filename):\n    reader_types = {\n        '.csv': WindCSVReader,\n        '.json': WindJSONReader,\n        '.h5': WindHDF5Reader,\n    }\n    reader_type = reader_types[Path(filename).suffix]\n    reader = reader_type(filename)\n    return reader.read()\n",
   "execution_count": null,
   "outputs": []
  },
  {
   "cell_type": "code",
   "metadata": {
    "tags": [],
    "cell_id": "00069-66206976-6fd4-439b-bcf1-a8f75e808b25",
    "deepnote_cell_type": "code"
   },
   "source": "",
   "execution_count": null,
   "outputs": []
  },
  {
   "cell_type": "markdown",
   "source": "<a style='text-decoration:none;line-height:16px;display:flex;color:#5B5B62;padding:10px;justify-content:end;' href='https://deepnote.com?utm_source=created-in-deepnote-cell&projectId=26e8d8fb-bf16-4b09-90ff-8c408dc7a290' target=\"_blank\">\n<img alt='Created in deepnote.com' style='display:inline;max-height:16px;margin:0px;margin-right:7.5px;' src='data:image/svg+xml;base64,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' > </img>\nCreated in <span style='font-weight:600;margin-left:4px;'>Deepnote</span></a>",
   "metadata": {
    "tags": [],
    "created_in_deepnote_cell": true,
    "deepnote_cell_type": "markdown"
   }
  }
 ],
 "nbformat": 4,
 "nbformat_minor": 2,
 "metadata": {
  "orig_nbformat": 2,
  "deepnote": {
   "is_reactive": false
  },
  "deepnote_notebook_id": "8139aed5-6196-4bbb-8037-59e38a3324ae",
  "deepnote_execution_queue": []
 }
}