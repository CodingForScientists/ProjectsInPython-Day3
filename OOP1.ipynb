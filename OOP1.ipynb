{
 "cells": [
  {
   "cell_type": "markdown",
   "source": "# Object-Oriented Programming 1\n\n## `class`, `self`, `__init__`, `type()`, and `super()`",
   "metadata": {
    "tags": [],
    "cell_id": "00000-c69bf92e-c8ad-4cf1-88ef-5c84d1eb28fa",
    "deepnote_to_be_reexecuted": false,
    "source_hash": "2d64a7bd",
    "execution_start": 1635834045175,
    "execution_millis": 1,
    "deepnote_cell_type": "markdown"
   }
  },
  {
   "cell_type": "markdown",
   "source": "### Making a New Namespace: `class`\n\n#### Class Attributes\n\nThe `class` keyword can be used to make modular code, without relying on seperate files.  For example, variables can be organized into smaller groups:\n\n```python\n\n## Instead of:\nnick_name = 'Nick'\nnick_job = 'Animal Caretaker'\n\n## We can have:\nclass Nick:\n    name = 'Nick'\n    job = 'Animal Caretaker'\n\nclass James:\n    name = 'Jamie'\n    job = 'Chef'\n\n>>> Nick.job\n'Animal Caretaker'\n\n>>> James.job\n'Chef'\n\n>>> Nick.job = 'Dishwasher'\n```\n.\n\nNow, this is usually better done with a `dict`, but we'll see some more benefits of `class` as we work through the exercises. \n\n**Note**: classes in Python use names with capitalized letters (i.e. `JobTitle` instead of `job_title`)\n    \n",
   "metadata": {
    "tags": [],
    "cell_id": "00001-04784132-dd5d-4f77-89a0-bb6d0e522d8a",
    "deepnote_cell_type": "markdown"
   }
  },
  {
   "cell_type": "markdown",
   "source": "**Exercises**:  Make the following tests pass.",
   "metadata": {
    "tags": [],
    "cell_id": "00002-32f3f6e4-c3d7-4ee9-8e2f-f13f34983302",
    "deepnote_cell_type": "markdown"
   }
  },
  {
   "cell_type": "code",
   "metadata": {
    "tags": [],
    "cell_id": "00003-2c16f79b-26ef-4fb2-8a7e-851b1e51a00a",
    "deepnote_cell_type": "code"
   },
   "source": "",
   "execution_count": null,
   "outputs": []
  },
  {
   "cell_type": "code",
   "metadata": {
    "tags": [],
    "cell_id": "00004-8f28f781-dd4c-445d-9d91-0fa7ce6e23a8",
    "deepnote_cell_type": "code"
   },
   "source": "assert RightTriangle.num_sides == 3\nassert RightTriangle.is_right == True\n\nassert EquilateralTriangle.num_sides == 3\nassert EquilateralTriangle.is_right == False\n\nassert Square.num_sides == 4",
   "execution_count": null,
   "outputs": []
  },
  {
   "cell_type": "markdown",
   "source": "#### Static Methods\n\nClasses can also hold functions, making them full-on modules!  To tell Python that a function in a class works like a normal function, we have to add the `@staticmethod` decorator to it.\n\n```\nclass Math:\n    pi = 3.14\n\n    @staticmethod\n    def sqrt(x):\n        return x ** 0.5\n\n    @staticmethod\n    def square(x):\n        return x ** 2\n\n\n>>> Math.sqrt(9)\n3.0\n\n```",
   "metadata": {
    "tags": [],
    "cell_id": "00005-46527a15-69c4-4a6d-844f-28c933b2c6ff",
    "deepnote_cell_type": "markdown"
   }
  },
  {
   "cell_type": "markdown",
   "source": "**Exercises**: Make the following tests pass",
   "metadata": {
    "tags": [],
    "cell_id": "00006-30e4e4a2-47f7-49d3-830b-137c88ece35c",
    "deepnote_cell_type": "markdown"
   }
  },
  {
   "cell_type": "code",
   "metadata": {
    "tags": [],
    "cell_id": "00007-9384befb-ce70-467b-80f8-2adb7a50fb77",
    "deepnote_cell_type": "code"
   },
   "source": "",
   "execution_count": null,
   "outputs": []
  },
  {
   "cell_type": "code",
   "metadata": {
    "tags": [],
    "cell_id": "00008-919c3a6d-ad66-4f4f-8445-889995773803",
    "deepnote_cell_type": "code"
   },
   "source": "assert Math.add(3, 6) == 9\nassert Math.mul(5, 4) == 20\nassert Math.sub(4, 8) == -4\nassert Math.div(9, 3) == 3",
   "execution_count": null,
   "outputs": []
  },
  {
   "cell_type": "markdown",
   "source": "### Instances: Sharing Functions, separating Data using `self`\n\nClasses are usually stored to work as full programs, storing their own data and managing their own state.  For example, in the following code, both `aa` and `bb` are instances of `list`, which means each has all the `list` methods; however, their data is different from each other:\n\n```python\naa = list([1, 2, 3])\nbb = list([5, 6, 7])\n```\n\nTo find out what class a variable belongs to, you can use the `type()` function:\n\n```\n>>> type(aa)\nlist\n\n>>> type(bb)\nlist\n```\n\nIn Python, methods by default let you save data to an instance by giving the `self` object in its methods. To save data upon first creation, Python will automatically call the `__init__` method.\n\n```\nclass List:\n\n    def __init__(self, data):\n        self.data = data\n\n    def append(self, value):\n        self.data = self.data + value\n\n\n>>> aa = List(data=(1, 2))\n>>> type(aa)\nList\n\n>>> aa.data\n(1, 2)\n\n>>> aa.append(3)\n\n>>> aa.data\n(1, 2, 3)\n```\n\n**Note**: Python requires that self be added to the beginning of all instance methods.\n\n**Note**: `self` doesn't have to be called `self`, it's just a convention.  Other languages uses `this`.\n\n",
   "metadata": {
    "tags": [],
    "cell_id": "00009-dbb740f2-2ab4-4b23-8773-837e0a5cd270",
    "deepnote_cell_type": "markdown"
   }
  },
  {
   "cell_type": "markdown",
   "source": "**Exercises**",
   "metadata": {
    "tags": [],
    "cell_id": "00001-023d0839-aedb-4582-9bff-5de08355ed57",
    "deepnote_cell_type": "markdown"
   }
  },
  {
   "cell_type": "markdown",
   "source": "Make a `Person` class that passes the tests in the code block below (after making the class, run the code below and check if any error messages appear.)",
   "metadata": {
    "tags": [],
    "cell_id": "00002-a1fea6b1-03d9-40c6-bb8b-649d4ef31e22",
    "deepnote_cell_type": "markdown"
   }
  },
  {
   "cell_type": "code",
   "metadata": {
    "tags": [],
    "cell_id": "00002-bcd295f8-21c7-4c1b-98e1-14b29eb3ebc7",
    "deepnote_to_be_reexecuted": false,
    "source_hash": "b623e53d",
    "execution_start": 1635834929664,
    "execution_millis": 1,
    "deepnote_cell_type": "code"
   },
   "source": "",
   "execution_count": null,
   "outputs": []
  },
  {
   "cell_type": "code",
   "metadata": {
    "tags": [],
    "cell_id": "00004-8e780eed-bf3c-43da-9085-90e639fc9869",
    "deepnote_to_be_reexecuted": false,
    "source_hash": "17eec11d",
    "execution_start": 1635834921478,
    "execution_millis": 435,
    "deepnote_cell_type": "code"
   },
   "source": "nick = Person(name='Nick', address='Haupstr. 11')\nassert nick.name == 'Nick'\nassert nick.address == 'Haupstr. 11'\nassert nick.get_full_address() == 'Nick, Haupstr. 11'\nassert type(nick) == Person\nassert nick.__class__ == Person\n\nmary = Person(name='Mary', address='123 Main Street')\nassert mary.name == 'Mary'\nassert mary.address == '123 Main Street'\nassert mary.get_full_address() == 'Mary, 123 Main Street'\nassert type(mary).__name__ == 'Person'\nassert mary.__class__.__name__ == 'Person'",
   "execution_count": null,
   "outputs": [
    {
     "output_type": "error",
     "ename": "NameError",
     "evalue": "name 'Person' is not defined",
     "traceback": [
      "\u001b[0;31m---------------------------------------------------------------------------\u001b[0m",
      "\u001b[0;31mNameError\u001b[0m                                 Traceback (most recent call last)",
      "\u001b[0;32m<ipython-input-5-2615045267dd>\u001b[0m in \u001b[0;36m<module>\u001b[0;34m\u001b[0m\n\u001b[0;32m----> 1\u001b[0;31m \u001b[0mnick\u001b[0m \u001b[0;34m=\u001b[0m \u001b[0mPerson\u001b[0m\u001b[0;34m(\u001b[0m\u001b[0mname\u001b[0m\u001b[0;34m=\u001b[0m\u001b[0;34m'Nick'\u001b[0m\u001b[0;34m,\u001b[0m \u001b[0maddress\u001b[0m\u001b[0;34m=\u001b[0m\u001b[0;34m'Haupstr. 11'\u001b[0m\u001b[0;34m)\u001b[0m\u001b[0;34m\u001b[0m\u001b[0;34m\u001b[0m\u001b[0m\n\u001b[0m\u001b[1;32m      2\u001b[0m \u001b[0;32massert\u001b[0m \u001b[0mnick\u001b[0m\u001b[0;34m.\u001b[0m\u001b[0mname\u001b[0m \u001b[0;34m==\u001b[0m \u001b[0;34m'Nick'\u001b[0m\u001b[0;34m\u001b[0m\u001b[0;34m\u001b[0m\u001b[0m\n\u001b[1;32m      3\u001b[0m \u001b[0;32massert\u001b[0m \u001b[0mnick\u001b[0m\u001b[0;34m.\u001b[0m\u001b[0maddress\u001b[0m \u001b[0;34m==\u001b[0m \u001b[0;34m'Haupstr. 11'\u001b[0m\u001b[0;34m\u001b[0m\u001b[0;34m\u001b[0m\u001b[0m\n\u001b[1;32m      4\u001b[0m \u001b[0;32massert\u001b[0m \u001b[0mtype\u001b[0m\u001b[0;34m(\u001b[0m\u001b[0mnick\u001b[0m\u001b[0;34m)\u001b[0m\u001b[0;34m.\u001b[0m\u001b[0m__name__\u001b[0m \u001b[0;34m==\u001b[0m \u001b[0;34m'Person'\u001b[0m\u001b[0;34m\u001b[0m\u001b[0;34m\u001b[0m\u001b[0m\n\u001b[1;32m      5\u001b[0m \u001b[0;32massert\u001b[0m \u001b[0mnick\u001b[0m\u001b[0;34m.\u001b[0m\u001b[0m__class__\u001b[0m\u001b[0;34m.\u001b[0m\u001b[0m__name__\u001b[0m \u001b[0;34m==\u001b[0m \u001b[0;34m'Person'\u001b[0m\u001b[0;34m\u001b[0m\u001b[0;34m\u001b[0m\u001b[0m\n",
      "\u001b[0;31mNameError\u001b[0m: name 'Person' is not defined"
     ]
    }
   ]
  },
  {
   "cell_type": "markdown",
   "source": "##",
   "metadata": {
    "tags": [],
    "cell_id": "00014-15bf4a24-e04a-456a-a8d8-d5b8bb859bdb",
    "deepnote_cell_type": "markdown"
   }
  },
  {
   "cell_type": "markdown",
   "source": "### Class Composition\n\nYou can also save instances of other classes as attributes of a new class, combining simple classes them together to get richer behavior.  For example:\n\n```python\nclass Name:\n    def __init__(self, first: str, last: str): ...\n\nclass Address:\n    def __init__(self, street: str, country: str): ...\n\nclass Envelope:\n    def __init__(self, name: Name, address: Address): ...\n    def get_envelope_address():  ...\n```",
   "metadata": {
    "tags": [],
    "cell_id": "00014-4cca180a-a5bc-4629-a9a9-1b47e0b664ab",
    "deepnote_cell_type": "markdown"
   }
  },
  {
   "cell_type": "markdown",
   "source": "Make a `Dog` class that passes the tests in the code block below (after making the class, run the code below and check if any error messages appear.)",
   "metadata": {
    "tags": [],
    "cell_id": "00002-5044a645-1149-4684-bd09-b9d02e1b32fb",
    "deepnote_cell_type": "markdown"
   }
  },
  {
   "cell_type": "code",
   "metadata": {
    "tags": [],
    "cell_id": "00003-ceb35921-d818-45ef-93a5-c2fded58032c",
    "deepnote_cell_type": "code"
   },
   "source": "",
   "execution_count": null,
   "outputs": []
  },
  {
   "cell_type": "code",
   "metadata": {
    "tags": [],
    "cell_id": "00002-090500d2-a68a-4b35-a1c8-fef9683bcc2f",
    "deepnote_cell_type": "code"
   },
   "source": "jamie = Dog(name='Jamie', owner=Person(name='Nick', address='Hauptstr. 11'))\nassert jamie.name == 'Jamie'\nassert jamie.speak() == 'Woof!'\nassert jamie.collar_tag == \"Jamie's owner Nick lives at Hauptstr. 11\"\n\njulia = Dog(name='Jamie', owner=Person(name='Mary', address='123 Main Street'))\nassert julia.name == 'Jamie'\nassert julia.speak() == 'Woof!'\nassert julia.collar_tag == \"Jamie's owner Mary lives at 123 Main Street\"\n",
   "execution_count": null,
   "outputs": []
  },
  {
   "cell_type": "markdown",
   "source": "### Inheritance\n\nTo reduce code duplication, it's possible to make a class that automatically takes on has all the methods of another class:\n\n```python\nclass Material:\n    def __init__(self, weight, strength): ...\n    def is_heavier_than(self, other): ...\n    def is_stronger_than(self, other): ...\n\naluminum = Material(weight=3.2, strength=1.3)\n\nclass Paper(Material):\n    def tear(self): ...\n    def burn(self): ...\n\n\nsheet = Paper(weight=1.1, strength=0.1)\nsheet.is_heavier_than(aluminum)\nsheet.tear\n```\n\n**Note:** Any methods that the new class adds will *overwrite* the methods of the class it inherits from.",
   "metadata": {
    "tags": [],
    "cell_id": "00008-58fe32df-6da2-4ac8-86e6-2585fffc9336",
    "deepnote_cell_type": "markdown"
   }
  },
  {
   "cell_type": "markdown",
   "source": "**Exercises**",
   "metadata": {
    "tags": [],
    "cell_id": "00009-c008987d-9063-4f34-9ba7-6713d32d8581",
    "deepnote_cell_type": "markdown"
   }
  },
  {
   "cell_type": "markdown",
   "source": "*Note*: The following exercise does something conceptually weird.  What is it?\n\nMake a class `Cat` that inherits from `Dog`, adding a `purr()` method, something that Dogs don't do (I think), and overwriting the `speak()` method to return `Meow!`.  Restriction: Don't alter the `Dog` class.",
   "metadata": {
    "tags": [],
    "cell_id": "00009-a00d378d-52cb-4697-84b4-76f8bb3a23d9",
    "deepnote_cell_type": "markdown"
   }
  },
  {
   "cell_type": "code",
   "metadata": {
    "tags": [],
    "cell_id": "00011-bca5c48b-8bb4-4812-a24b-cce2c5230d54",
    "deepnote_cell_type": "code"
   },
   "source": "",
   "execution_count": null,
   "outputs": []
  },
  {
   "cell_type": "code",
   "metadata": {
    "tags": [],
    "cell_id": "00012-46ae33dc-395f-42b4-9a84-b113c47b064b",
    "deepnote_cell_type": "code"
   },
   "source": "woosang = Cat(name='Woosang', owner=Person(name='Florian', address='20 Rue des Halles'))\nassert woosang.name == 'Woosang'\nassert woosang.collar_tag == \"Woosang's owner Florian lives at 20 Rue des Halles\"\nassert woosang.purr() == '...'\nassert woosang.speak() == 'Meow!'",
   "execution_count": null,
   "outputs": []
  },
  {
   "cell_type": "markdown",
   "source": "*5-Minute Discussion*: Why is this weird? What pros and cons are there of this approach?",
   "metadata": {
    "tags": [],
    "cell_id": "00011-486edbe0-0384-4048-b47b-19bbd41c10c1",
    "deepnote_cell_type": "markdown"
   }
  },
  {
   "cell_type": "code",
   "metadata": {
    "tags": [],
    "cell_id": "00012-1d772314-20f4-4233-b409-ae9c78774508",
    "deepnote_cell_type": "code"
   },
   "source": "",
   "execution_count": null,
   "outputs": []
  },
  {
   "cell_type": "markdown",
   "source": "\n#### Make a Shared Base Class\n\nIn order to both reduce code duplication and prevent classes from having inappropriate data, methods, or defaults, people will often create a third \"base class\" that has only shared data and code, that the classes of interest will inherit from.\n\nFor example, instead of:\n  - `class Triangle`\n    - `class Circle(Triangle)`\n\nYou might make\n  - `class Shape`\n    - `class Triangle(Shape)`\n    - `class Circle(Shape)`\n\nTo find out what other classes a given class inherits from, you can check the class' `mro()` (\"Method Resolution Order\") method, which lists all the inherited classes in order, ending at the `object` class, which all Python objects inherit from.\n\n```python\n>>> Triangle.mro()\n[__main__.Triangle, __main__.Shape, object]\n```\n\nLet's try it out!",
   "metadata": {
    "tags": [],
    "cell_id": "00015-4f9df17a-1d14-4976-b715-b3a293b7e085",
    "deepnote_to_be_reexecuted": false,
    "source_hash": "691b0271",
    "execution_start": 1635836463587,
    "execution_millis": 2,
    "deepnote_cell_type": "markdown"
   }
  },
  {
   "cell_type": "markdown",
   "source": "Re-Make the `Dog` and `Cat` classes, making them each inherit from the shared class `Pet`.",
   "metadata": {
    "tags": [],
    "cell_id": "00012-ae2713e8-a67e-4fa2-9ca4-4137d3582779",
    "deepnote_cell_type": "markdown"
   }
  },
  {
   "cell_type": "code",
   "metadata": {
    "tags": [],
    "cell_id": "00014-a7baeecd-8e9e-4988-9d96-555d1882dfc6",
    "deepnote_to_be_reexecuted": false,
    "source_hash": "4f25030b",
    "execution_start": 1635839114678,
    "execution_millis": 193,
    "deepnote_cell_type": "code"
   },
   "source": "hugo = Pet(name='Francisco', owner=Person('Martin', 'Outid de Arriba 36'))\nassert hugo.name == 'Francisco'\nassert hugo.collar_tag == \"Francisco's owner Martin lives at Outid de Arriba 36\"\nassert Pet.mro() == [Pet, object]\nassert hugo.__class__.mro() == [Pet, object]\n\njulia = Dog(name='Jamie', owner=Person(name='Mary', address='123 Main Street'))\nassert Dog.mro() == [Dog, Pet, object]\nassert julia.name == 'Jamie'\nassert julia.speak() == 'Woof!'\nassert julia.collar_tag == \"Jamie's owner Mary lives at 123 Main Street\"\n\n\nwoosang = Cat(name='Woosang', owner=Person(name='Florian', address='20 Rue des Halles'))\nassert Cat.mro() == [Cat, Pet, object]\nassert woosang.name == 'Woosang'\nassert woosang.collar_tag == \"Woosang's owner Florian lives at 20 Rue des Halles\"\nassert woosang.purr() == \"...\"\nassert woosang.speak() == 'Meow!'\n",
   "execution_count": null,
   "outputs": [
    {
     "output_type": "error",
     "ename": "NameError",
     "evalue": "name 'Person' is not defined",
     "traceback": [
      "\u001b[0;31m---------------------------------------------------------------------------\u001b[0m",
      "\u001b[0;31mNameError\u001b[0m                                 Traceback (most recent call last)",
      "\u001b[0;32m<ipython-input-18-e1bc5a72ce8e>\u001b[0m in \u001b[0;36m<module>\u001b[0;34m\u001b[0m\n\u001b[0;32m----> 1\u001b[0;31m \u001b[0mhugo\u001b[0m \u001b[0;34m=\u001b[0m \u001b[0mPet\u001b[0m\u001b[0;34m(\u001b[0m\u001b[0mname\u001b[0m\u001b[0;34m=\u001b[0m\u001b[0;34m'Francisco'\u001b[0m\u001b[0;34m,\u001b[0m \u001b[0mowner\u001b[0m\u001b[0;34m=\u001b[0m\u001b[0mPerson\u001b[0m\u001b[0;34m(\u001b[0m\u001b[0;34m'Martin'\u001b[0m\u001b[0;34m,\u001b[0m \u001b[0;34m'Outid de Arriba 36'\u001b[0m\u001b[0;34m)\u001b[0m\u001b[0;34m)\u001b[0m\u001b[0;34m\u001b[0m\u001b[0;34m\u001b[0m\u001b[0m\n\u001b[0m\u001b[1;32m      2\u001b[0m \u001b[0;32massert\u001b[0m \u001b[0mhugo\u001b[0m\u001b[0;34m.\u001b[0m\u001b[0mname\u001b[0m \u001b[0;34m==\u001b[0m \u001b[0;34m'Francisco'\u001b[0m\u001b[0;34m\u001b[0m\u001b[0;34m\u001b[0m\u001b[0m\n\u001b[1;32m      3\u001b[0m \u001b[0;32massert\u001b[0m \u001b[0mhugo\u001b[0m\u001b[0;34m.\u001b[0m\u001b[0mcollar_tag\u001b[0m \u001b[0;34m==\u001b[0m \u001b[0;34m\"Francisco's owner Martin lives at Outid de Arriba 36\"\u001b[0m\u001b[0;34m\u001b[0m\u001b[0;34m\u001b[0m\u001b[0m\n\u001b[1;32m      4\u001b[0m \u001b[0;32massert\u001b[0m \u001b[0mPet\u001b[0m\u001b[0;34m.\u001b[0m\u001b[0mmro\u001b[0m\u001b[0;34m(\u001b[0m\u001b[0;34m)\u001b[0m \u001b[0;34m==\u001b[0m \u001b[0;34m[\u001b[0m\u001b[0mPet\u001b[0m\u001b[0;34m,\u001b[0m \u001b[0mobject\u001b[0m\u001b[0;34m]\u001b[0m\u001b[0;34m\u001b[0m\u001b[0;34m\u001b[0m\u001b[0m\n\u001b[1;32m      5\u001b[0m \u001b[0;32massert\u001b[0m \u001b[0mhugo\u001b[0m\u001b[0;34m.\u001b[0m\u001b[0m__class__\u001b[0m\u001b[0;34m.\u001b[0m\u001b[0mmro\u001b[0m\u001b[0;34m(\u001b[0m\u001b[0;34m)\u001b[0m \u001b[0;34m==\u001b[0m \u001b[0;34m[\u001b[0m\u001b[0mPet\u001b[0m\u001b[0;34m,\u001b[0m \u001b[0mobject\u001b[0m\u001b[0;34m]\u001b[0m\u001b[0;34m\u001b[0m\u001b[0;34m\u001b[0m\u001b[0m\n",
      "\u001b[0;31mNameError\u001b[0m: name 'Person' is not defined"
     ]
    }
   ]
  },
  {
   "cell_type": "markdown",
   "source": "#### Extending Overwritten Methods: `super()`\n\nSometimes you need to overwrite a method from an inherited class, but don't want to *completely* replace the method, just add something extra.  To provide access to the class that's inherited from (the \"parent\" class), there is a `super()` function.\n\n```python\nclass Material:\n    def __init__(self, weight): ...\n       self.weight = weight\n\nclass Person(Material):\n    def __init__(self, weight, name): ...  # overwrites Material.__init__\n        super().__init__(weight)  # calls Material.__init__().\n        self.name = name\n\nperson = Person(1.1, \"Doug\")\nperson.name == 'Doug'\nperson.weight == 1.1\n```",
   "metadata": {
    "tags": [],
    "cell_id": "00015-507fed7e-35f3-44ed-b6d7-7ecc35bb52f9",
    "deepnote_cell_type": "markdown"
   }
  },
  {
   "cell_type": "markdown",
   "source": "**Exercises**: Make the following tests pass",
   "metadata": {
    "tags": [],
    "cell_id": "00029-8efd761a-6aa1-4563-b60d-d7362db5092d",
    "deepnote_cell_type": "markdown"
   }
  },
  {
   "cell_type": "code",
   "metadata": {
    "tags": [],
    "cell_id": "00019-992d523c-3c32-44f6-a058-cadeb9823fc0",
    "deepnote_cell_type": "code"
   },
   "source": "",
   "execution_count": null,
   "outputs": []
  },
  {
   "cell_type": "code",
   "metadata": {
    "tags": [],
    "cell_id": "00031-537b14e6-b971-4da1-a103-4f7e06f1cf81",
    "deepnote_cell_type": "code"
   },
   "source": "julia = Pet(name='Julia', owner=Person(name='Mary', address='123 Main Street'))\nassert julia.name == 'Julia'\nassert julia.collar_tag == \"Julia's owner Mary lives at 123 Main Street\"\n\ndoug = Dog(name='Doug', owner_name='Nick', address='Hauptstr. 11')\nassert Dog.mro() == [Dog, Pet, object]\nassert doug.name == 'Doug'\nassert doug.collar_tag == \"Doug's owner Nick lives at Hauptstr. 11\"\n\nben = Cat(name='Ben', feeder_name='Emily', bed_location='Hauptstr. 12')\nassert Cat.mro() == [Cat, Pet, object]\nassert ben.name == 'Ben'\nassert ben.collar_tag == \"Ben's owner Emily lives at Hauptstr. 12\"\n\n",
   "execution_count": null,
   "outputs": []
  },
  {
   "cell_type": "markdown",
   "source": "<a style='text-decoration:none;line-height:16px;display:flex;color:#5B5B62;padding:10px;justify-content:end;' href='https://deepnote.com?utm_source=created-in-deepnote-cell&projectId=26e8d8fb-bf16-4b09-90ff-8c408dc7a290' target=\"_blank\">\n<img alt='Created in deepnote.com' style='display:inline;max-height:16px;margin:0px;margin-right:7.5px;' src='data:image/svg+xml;base64,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' > </img>\nCreated in <span style='font-weight:600;margin-left:4px;'>Deepnote</span></a>",
   "metadata": {
    "tags": [],
    "created_in_deepnote_cell": true,
    "deepnote_cell_type": "markdown"
   }
  }
 ],
 "nbformat": 4,
 "nbformat_minor": 2,
 "metadata": {
  "orig_nbformat": 2,
  "deepnote": {
   "is_reactive": false
  },
  "deepnote_notebook_id": "87fc3286-aa0e-4f0d-a9f0-7096505402d1",
  "deepnote_execution_queue": []
 }
}